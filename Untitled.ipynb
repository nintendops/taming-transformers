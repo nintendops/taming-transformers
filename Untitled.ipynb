{
 "cells": [
  {
   "cell_type": "code",
   "execution_count": 17,
   "id": "aa34829c",
   "metadata": {},
   "outputs": [
    {
     "data": {
      "text/plain": [
       "array([[0, 0, 0, ..., 0, 0, 0],\n",
       "       [0, 0, 0, ..., 0, 0, 0],\n",
       "       [0, 0, 0, ..., 0, 0, 0],\n",
       "       ...,\n",
       "       [0, 0, 0, ..., 0, 0, 0],\n",
       "       [0, 0, 0, ..., 0, 0, 0],\n",
       "       [0, 0, 0, ..., 0, 0, 0]])"
      ]
     },
     "execution_count": 17,
     "metadata": {},
     "output_type": "execute_result"
    }
   ],
   "source": [
    "# dataloader testing\n",
    "\n",
    "import numpy as np\n",
    "import glob\n",
    "import os\n",
    "from PIL import Image\n",
    "\n",
    "path = \"/home/ICT2000/chenh/Haiwei/Datasets/OWT/Catalina_Full/OutputImageSegmentation_Catalina/Images\" \n",
    "\n",
    "files = glob.glob(os.path.join(path,'*.JPG'))\n",
    "files_seg = [f[:-4] + '.npy' for f in files]\n",
    "\n",
    "seg = np.load(files_seg[0])\n",
    "segmentation = (seg * (seg > -1)).astype(np.uint8)\n",
    "\n",
    "n_labels = 3\n",
    "flatseg = np.ravel(segmentation)\n",
    "onehot = np.zeros((flatseg.size, n_labels), dtype=np.bool)\n",
    "onehot[np.arange(flatseg.size), flatseg] = True\n",
    "onehot = onehot.reshape(segmentation.shape + (n_labels,)).astype(int)\n",
    "segmentation = onehot\n",
    "\n"
   ]
  }
 ],
 "metadata": {
  "kernelspec": {
   "display_name": "Python 3 (ipykernel)",
   "language": "python",
   "name": "python3"
  },
  "language_info": {
   "codemirror_mode": {
    "name": "ipython",
    "version": 3
   },
   "file_extension": ".py",
   "mimetype": "text/x-python",
   "name": "python",
   "nbconvert_exporter": "python",
   "pygments_lexer": "ipython3",
   "version": "3.8.5"
  }
 },
 "nbformat": 4,
 "nbformat_minor": 5
}
