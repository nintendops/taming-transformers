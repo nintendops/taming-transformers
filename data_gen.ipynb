{
 "cells": [
  {
   "cell_type": "code",
   "execution_count": 64,
   "id": "a568fd6e",
   "metadata": {},
   "outputs": [],
   "source": [
    "import numpy as np\n",
    "import glob\n",
    "import os\n",
    "import importlib\n",
    "import yaml\n",
    "import albumentations\n",
    "import glob\n",
    "import json\n",
    "import torch\n",
    "from PIL import Image\n",
    "from torch.utils.data import random_split, DataLoader, Dataset\n",
    "from taming.modules.util import write_images, RandomMask, BatchRandomMask\n",
    "from taming.data.places365 import Places"
   ]
  },
  {
   "cell_type": "code",
   "execution_count": 66,
   "id": "81ce8dfd",
   "metadata": {},
   "outputs": [
    {
     "name": "stdout",
     "output_type": "stream",
     "text": [
      "328500\n"
     ]
    }
   ],
   "source": [
    "# dataloader \n",
    "dataroot = \"/vgldb1/Haiwei/Places365/test_large\"\n",
    "dataset = Places(dataroot, crop_size=256, rescale=True, rescale_size=256)\n",
    "length_dataset = len(dataset)\n",
    "print(length_dataset)"
   ]
  },
  {
   "cell_type": "code",
   "execution_count": 68,
   "id": "50705878",
   "metadata": {},
   "outputs": [],
   "source": [
    "import cv2\n",
    "\n",
    "def write_mask(path, mask):\n",
    "    mask = (mask * 255).astype(np.uint8)\n",
    "    cv2.imwrite('{}'.format(str(path)),mask)\n",
    "\n",
    "# mask gen test\n",
    "# image_size = 256\n",
    "# mask = RandomMask(256)\n",
    "# print(mask)\n",
    "# write_mask('mask_test.jpg',mask.transpose(1,2,0))\n",
    "\n",
    "# mask read test\n",
    "def read_mask(path):\n",
    "    mask = Image.open(path)\n",
    "    mask = np.array(mask).astype(np.uint8) / 255\n",
    "    return mask.astype(np.float32)\n",
    "\n",
    "# mask = read_mask('mask_test.jpg')\n",
    "# print(mask)"
   ]
  },
  {
   "cell_type": "code",
   "execution_count": 57,
   "id": "ed93f3a8",
   "metadata": {},
   "outputs": [
    {
     "data": {
      "text/plain": [
       "dict_keys(['image', 'segmentation', 'img_path', 'seg_path', 'filename_'])"
      ]
     },
     "execution_count": 57,
     "metadata": {},
     "output_type": "execute_result"
    }
   ],
   "source": [
    "data.keys()"
   ]
  },
  {
   "cell_type": "code",
   "execution_count": 69,
   "id": "82f6a1d1",
   "metadata": {},
   "outputs": [
    {
     "name": "stdout",
     "output_type": "stream",
     "text": [
      "Processing the 0th mask...\n",
      "Processing the 50000th mask...\n",
      "Processing the 100000th mask...\n",
      "Processing the 150000th mask...\n",
      "Processing the 200000th mask...\n",
      "Processing the 250000th mask...\n",
      "Processing the 300000th mask...\n"
     ]
    }
   ],
   "source": [
    "# here is where we generate data to the path\n",
    "mask_path = \"/vgldb1/Haiwei/Places365/test_mask\"\n",
    "os.makedirs(mask_path, exist_ok=True)\n",
    "for i in range(len(dataset)):\n",
    "    if i % 50000 == 0:\n",
    "        print(f\"Processing the {i}th mask...\")\n",
    "    name = dataset[i]['filename_']\n",
    "    new_mask = RandomMask(256).transpose(1,2,0)\n",
    "    write_mask(os.path.join(mask_path, name), new_mask)"
   ]
  },
  {
   "cell_type": "code",
   "execution_count": 70,
   "id": "d22ba8f5",
   "metadata": {},
   "outputs": [
    {
     "name": "stdout",
     "output_type": "stream",
     "text": [
      "ff\n"
     ]
    }
   ],
   "source": [
    "print(\"ff\")"
   ]
  }
 ],
 "metadata": {
  "kernelspec": {
   "display_name": "Python 3 (ipykernel)",
   "language": "python",
   "name": "python3"
  },
  "language_info": {
   "codemirror_mode": {
    "name": "ipython",
    "version": 3
   },
   "file_extension": ".py",
   "mimetype": "text/x-python",
   "name": "python",
   "nbconvert_exporter": "python",
   "pygments_lexer": "ipython3",
   "version": "3.8.5"
  }
 },
 "nbformat": 4,
 "nbformat_minor": 5
}
